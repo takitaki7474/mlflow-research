{
 "cells": [
  {
   "cell_type": "code",
   "execution_count": 1,
   "metadata": {},
   "outputs": [],
   "source": [
    "import os\n",
    "import numpy as np\n",
    "import cv2\n",
    "import pandas as pd\n",
    "import torch"
   ]
  },
  {
   "cell_type": "code",
   "execution_count": 12,
   "metadata": {},
   "outputs": [],
   "source": [
    "import torch.utils.data"
   ]
  },
  {
   "cell_type": "code",
   "execution_count": 2,
   "metadata": {},
   "outputs": [],
   "source": [
    "feature_table_path = \"../feature/feature_table.pkl\"\n",
    "feature_table = pd.read_pickle(feature_table_path)\n",
    "\n",
    "TRAIN_FOLDER_NAME = \"../train_img\""
   ]
  },
  {
   "cell_type": "code",
   "execution_count": 4,
   "metadata": {},
   "outputs": [],
   "source": [
    "def table_division(feature_table):\n",
    "    devided_df = []\n",
    "    for label, df in feature_table.groupby(\"label\"):\n",
    "        devided_df.append(df)\n",
    "\n",
    "    return devided_df\n",
    "\n",
    "def over_search_img(df,img_num):\n",
    "    images = list(df[\"img\"][:img_num])\n",
    "\n",
    "    return images"
   ]
  },
  {
   "cell_type": "code",
   "execution_count": 3,
   "metadata": {},
   "outputs": [],
   "source": [
    "def create_train_dataset(feature_table, TRAIN_FOLDER_NAME,image_set):\n",
    "    train_dataset = []\n",
    "    for image in image_set:\n",
    "        label = feature_table[feature_table.img == image].label.values[0]\n",
    "        filepath = os.path.join(TRAIN_FOLDER_NAME, str(label), image)\n",
    "        train_dataset.append((filepath, np.int32(label)))\n",
    "\n",
    "    return train_dataset\n",
    "\n",
    "def dataset_conversion(dataset):\n",
    "        img_data = []\n",
    "        label_data = []\n",
    "\n",
    "        for filepath, label in dataset:\n",
    "            img = cv2.imread(filepath, 1)\n",
    "            img = cv2.resize(img,(28,28))\n",
    "            img_data.append(img)\n",
    "            label_data.append(label)\n",
    "\n",
    "        img_data = np.array(img_data).astype(np.float32)\n",
    "        label_data = np.array(label_data).astype(np.int32)\n",
    "\n",
    "        return img_data, label_data"
   ]
  },
  {
   "cell_type": "code",
   "execution_count": 5,
   "metadata": {},
   "outputs": [],
   "source": [
    "img_num_by_class = 300\n",
    "devide_df = table_division(feature_table)\n",
    "\n",
    "image_set = []\n",
    "for df in devide_df:\n",
    "    image_set += over_search_img(df, img_num_by_class)"
   ]
  },
  {
   "cell_type": "code",
   "execution_count": 7,
   "metadata": {},
   "outputs": [],
   "source": [
    "train_dataset = create_train_dataset(feature_table, TRAIN_FOLDER_NAME, image_set)\n",
    "img_data, label_data = dataset_conversion(train_dataset)\n",
    "\n",
    "train_data = []\n",
    "for x_train, y_train in zip(img_data, label_data):\n",
    "    train_data.append((x_train, y_train))"
   ]
  },
  {
   "cell_type": "code",
   "execution_count": 11,
   "metadata": {},
   "outputs": [],
   "source": [
    "dataloader = torch.utils.data.DataLoader(train_data, batch_size=128, shuffle=True)"
   ]
  },
  {
   "cell_type": "code",
   "execution_count": null,
   "metadata": {},
   "outputs": [],
   "source": []
  }
 ],
 "metadata": {
  "kernelspec": {
   "display_name": "Python 3",
   "language": "python",
   "name": "python3"
  },
  "language_info": {
   "codemirror_mode": {
    "name": "ipython",
    "version": 3
   },
   "file_extension": ".py",
   "mimetype": "text/x-python",
   "name": "python",
   "nbconvert_exporter": "python",
   "pygments_lexer": "ipython3",
   "version": "3.6.7"
  }
 },
 "nbformat": 4,
 "nbformat_minor": 2
}
